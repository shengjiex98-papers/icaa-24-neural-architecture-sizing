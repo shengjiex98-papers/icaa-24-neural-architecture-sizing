{
 "cells": [
  {
   "cell_type": "markdown",
   "metadata": {},
   "source": [
    "## API"
   ]
  },
  {
   "cell_type": "markdown",
   "metadata": {},
   "source": [
    "For multiplicative sensitivity, use\n",
    "```python\n",
    "mult_sensitivity(A_discrete, B_discrete, K)  # Closed loop\n",
    "mult_sensitivity(A_discrete, B_discrete)     # Open loop\n",
    "```\n",
    "\n",
    "For additive sensitivity, use\n",
    "```python\n",
    "addi_sensitivity(A_discrete, B_discrete, K)  # Closed loop\n",
    "addi_sensitivity(A_discrete, B_discrete)     # Open loop\n",
    "```"
   ]
  },
  {
   "cell_type": "markdown",
   "metadata": {},
   "source": [
    "## Background\n",
    "We assume the system is $x \\in R^n$ and $x[t+1] = Ax[t] + Bu[t]$ where $u[t]=K\\hat{x}[t]$ is computed from the neural-network perceived states $\\hat{x}[t] \\approx x[t]$.\n"
   ]
  },
  {
   "cell_type": "markdown",
   "metadata": {},
   "source": [
    "## Multiplicative noise model\n"
   ]
  },
  {
   "cell_type": "markdown",
   "metadata": {},
   "source": [
    "\n",
    "We model noise by $\\hat{x}[t] = Ex[t]$ where $E$ is a diagonal matrix that is close to the identity matrix. Specifically, given a small $\\epsilon_i$ such that $\\hat{x}_i[t] = (1+\\epsilon_i)x_i[t]$,\n",
    "<!-- given $\\lambda_i \\approx 1$ such that $\\hat{x}_i[t] \\in (\\frac{x_i[t]}{\\lambda_i}, x_i[t]\\lambda_i)$ -->\n",
    "$$\n",
    "E = \\begin{bmatrix}\n",
    "    1+\\epsilon_1 & & \\huge0 \\\\\n",
    "    & \\ddots &  \\\\\n",
    "    \\huge0 & & 1+\\epsilon_n\n",
    "\\end{bmatrix},\n",
    "$$\n",
    "and the system model becomes\n",
    "$$\n",
    "x[t+1] = Ax[t] + BK(Ex[t]) \\\\\n",
    "       = (A+BKE)x[t].\n",
    "$$\n",
    "\n",
    "We use a special notation $E_i$ to denote when only **one** state, $x_i$, is affected by uncertainty and all other states are assumed to be perfectly sensed.\n",
    "$$\n",
    "E_i = \\begin{bmatrix}\n",
    "    I_{i-1} & & \\huge0 \\\\\n",
    "    & 1+\\epsilon_i &  \\\\\n",
    "    \\huge0 & & I_{n-i}\n",
    "\\end{bmatrix}.\n",
    "$$\n",
    "\n",
    "For example, when $A=\n",
    "\\begin{bmatrix}\n",
    "a_{11} & a_{11} \\\\\n",
    "a_{21} & a_{22}\n",
    "\\end{bmatrix}\n",
    "$, $B=\\begin{bmatrix}\n",
    "    b_1 \\\\ b_2\n",
    "\\end{bmatrix}$, and $K = \\begin{bmatrix}\n",
    "    k_1 &  k_2\n",
    "\\end{bmatrix}$,\n",
    "$$\n",
    "A+BKE_1 =\n",
    "\\begin{bmatrix}\n",
    "a_{11}+b_1k_1 (1+\\epsilon_1) & a_{11}+b_1k_2 \\\\\n",
    "a_{21}+b_2k_1 (1+\\epsilon_1) & a_{22}+b_2k_2\n",
    "\\end{bmatrix},\n",
    "$$\n",
    "and\n",
    "$$\n",
    "A+BKE_2 =\n",
    "\\begin{bmatrix}\n",
    "a_{11}+b_1k_1 & a_{11}+b_1k_2 (1+\\epsilon_2) \\\\\n",
    "a_{21}+b_2k_1 & a_{22}+b_2k_2 (1+\\epsilon_2)\n",
    "\\end{bmatrix}.\n",
    "$$"
   ]
  },
  {
   "cell_type": "markdown",
   "metadata": {},
   "source": [
    "## Computing sensitivity with multiplicative noise model\n"
   ]
  },
  {
   "cell_type": "markdown",
   "metadata": {},
   "source": [
    "The key of the technique is to model the system as \n",
    "$$x[t+1] = A_\\phi x[t]$$\n",
    "and model the uncertainty in a way such that the system with uncertainty is represented by \n",
    "$$x[t+1] = A_\\phi' x[t]$$\n",
    "where $A_\\phi' = A_\\phi + \\epsilon Y + O(\\epsilon^2)$. \n",
    "Then using $A_\\phi$ and $Y$ as inputs, we use the prior technique to compute the sensitivity of maximum singular value of $A_\\phi'$ relative to $\\epsilon$. Using the previous example, we see that \n",
    "$$\n",
    "\\begin{align*}\n",
    "A_\\phi \n",
    "&= A+BK \\\\\n",
    "&= \\begin{bmatrix}\n",
    "    a_{11}+b_1k_1 & a_{11}+b_1k_2 \\\\\n",
    "    a_{21}+b_2k_1 & a_{22}+b_2k_2\n",
    "\\end{bmatrix},\n",
    "\\end{align*}\n",
    "$$\n",
    "And for a perturbation in $x_1$, the resulting $A_\\phi'$ becomes\n",
    "$$\n",
    "\\begin{align*}\n",
    "A_\\phi' \n",
    "&= A+BKE_1 \\\\\n",
    "&=\\begin{bmatrix}\n",
    "    a_{11}+b_1k_1 (1+\\epsilon_1) & a_{11}+b_1k_2 \\\\\n",
    "    a_{21}+b_2k_1 (1+\\epsilon_1) & a_{22}+b_2k_2\n",
    "\\end{bmatrix} \\\\\n",
    "&= \\begin{bmatrix}\n",
    "    a_{11}+b_1k_1 & a_{11}+b_1k_2 \\\\\n",
    "    a_{21}+b_2k_1 & a_{22}+b_2k_2\n",
    "\\end{bmatrix} +\n",
    "\\epsilon_1 \\begin{bmatrix}\n",
    "    b_1k_1 & 0 \\\\\n",
    "    b_2k_1 & 0\n",
    "\\end{bmatrix} \\\\\n",
    "&= A_\\phi + \\epsilon_1 Y_1\n",
    "\\end{align*}\n",
    "$$\n",
    "where $Y_1 = \\begin{bmatrix}\n",
    "    b_1k_1 & 0 \\\\\n",
    "    b_2k_1 & 0\n",
    "\\end{bmatrix}$. Similarly, $Y_2 =\n",
    "\\begin{bmatrix}\n",
    "    0 & b_1k_2 \\\\\n",
    "    0 & b_2k_2\n",
    "\\end{bmatrix}$.\n",
    "\n",
    "More generally, for arbitrary $A$, $B$ and $K$, $A_\\phi = A+BK$ and\n",
    "$Y_i = \\begin{bmatrix}\n",
    "    & b_1k_i & \\\\\n",
    "    \\huge 0 & \\vdots & \\huge 0 \\\\\n",
    "    & b_nk_i & \\\\\n",
    "\\end{bmatrix}.$\n",
    "\n",
    "Similarly, for open-loop systems, $A_\\phi = A$ and\n",
    "$Y_i = \\begin{bmatrix}\n",
    "    & a_{1i} & \\\\\n",
    "    \\huge 0 & \\vdots & \\huge 0 \\\\\n",
    "    & a_{ni} & \\\\\n",
    "\\end{bmatrix}.$"
   ]
  },
  {
   "cell_type": "code",
   "execution_count": 21,
   "metadata": {},
   "outputs": [],
   "source": [
    "import numpy as np\n",
    "import control as ctrl\n",
    "from Benchmarks import sys_variables\n",
    "from OrderUncertainties import *\n",
    "\n",
    "round2g = lambda x: float(f\"{x:.2g}\")\n",
    "\n",
    "def get_sensitivity(A_phi, Y):\n",
    "    mat = OrdUnc(A_phi)\n",
    "    if mat.determineCase() == 1:\n",
    "        return mat.distinctPos(Y)\n",
    "    else:\n",
    "        return mat.multSig(Y)"
   ]
  },
  {
   "cell_type": "code",
   "execution_count": 14,
   "metadata": {},
   "outputs": [],
   "source": [
    "\n",
    "def mult_sensitivity(A, B, K=None):\n",
    "    if K is not None:\n",
    "        A_phi = A + np.matmul(B, K)\n",
    "        Y_all = np.matmul(B, K)\n",
    "    else:\n",
    "        A_phi = A\n",
    "        Y_all = A\n",
    "\n",
    "    sensitivity = []\n",
    "    for i in range(Y_all.shape[1]):\n",
    "        Y_i = np.zeros(Y_all.shape)\n",
    "        Y_i[:, i] = Y_all[:, i]\n",
    "        sensitivity.append(get_sensitivity(A_phi, Y_i))\n",
    "\n",
    "    return sensitivity\n"
   ]
  },
  {
   "cell_type": "code",
   "execution_count": 15,
   "metadata": {},
   "outputs": [
    {
     "data": {
      "text/plain": [
       "{'RC': [0.03, 0.0029],\n",
       " 'F1': [0.13, 0.35],\n",
       " 'DC': [1.3e-05, 0.016],\n",
       " 'CS': [0.54, 0.075, 0.52, 0.066],\n",
       " 'EW': [320.0, 0.039],\n",
       " 'C1': [2e-05],\n",
       " 'CC': [0.0025, 0.008, 0.049],\n",
       " 'D5': [0.082, 0.22, 0.045, 0.17, 0.08]}"
      ]
     },
     "execution_count": 15,
     "metadata": {},
     "output_type": "execute_result"
    }
   ],
   "source": [
    "# All systems with discrete LQR control\n",
    "res = {}\n",
    "for (name, bench) in sys_variables.items():\n",
    "    K = ctrl.dlqr(bench.sysd, np.eye(bench.nx), np.eye(bench.nu))[0]\n",
    "    res[name] = list(map(round2g, mult_sensitivity(bench.sysd.A, bench.sysd.B, K)))\n",
    "res"
   ]
  },
  {
   "cell_type": "code",
   "execution_count": 16,
   "metadata": {},
   "outputs": [
    {
     "data": {
      "text/plain": [
       "[0.45, 0.29, 0.48, 0.68, 0.27]"
      ]
     },
     "execution_count": 16,
     "metadata": {},
     "output_type": "execute_result"
    }
   ],
   "source": [
    "bench = sys_variables['D5']\n",
    "list(map(round2g, mult_sensitivity(bench.sysd.A, bench.sysd.B)))"
   ]
  },
  {
   "cell_type": "markdown",
   "metadata": {},
   "source": [
    "## Additive noise model"
   ]
  },
  {
   "cell_type": "markdown",
   "metadata": {},
   "source": [
    "In the additive noise model, the noise $w$ is not dependent on the current state $x[t]$. *i.e.*, $\\hat{x}_i[t] = x_i[t] + w_i$.\n",
    "$$\n",
    "\\begin{align*}\n",
    "x[t+1] &= Ax[t] + BK(x[t]+w) \\\\\n",
    "    &= (A+BK)x[t] + BKw\n",
    "\\end{align*}\n",
    "$$\n",
    "\n",
    "Since\n",
    "$\n",
    "BK =\n",
    "\\begin{bmatrix} b_1k_1 & b_1k_2\\\\ \n",
    "b_2k_1 & b_2k_2 \\end{bmatrix},\n",
    "$\n",
    "The two parts of the expressions are\n",
    "$$\n",
    "(A+BK)x=\n",
    "\\begin{bmatrix} (a_{11}+b_1k_1)x_1+(a_{12}+b_1k_2)x_2 \\\\ \n",
    "(a_{21}+b_2k_1)x_1+(a_{22}+b_2k_2)x_2 \\end{bmatrix},\n",
    "$$\n",
    "and\n",
    "$$\n",
    "BKw =\n",
    "\\begin{bmatrix} b_1k_1w_1+b_1k_2w_2 \\\\\n",
    " b_2k_1w_1+b_2k_2w_2 \\end{bmatrix}\n",
    "$$\n",
    "\n",
    "Let $w = \\begin{bmatrix}\n",
    "    1 \\\\ 0\n",
    "\\end{bmatrix}$, then\n",
    "$$\n",
    "BKw =\n",
    "\\begin{bmatrix} b_1k_1 \\\\\n",
    " b_2k_1 \\end{bmatrix}\n",
    "$$\n",
    "\n",
    "$$\n",
    "(A+BK)x+BKw=\n",
    "\\begin{bmatrix} (a_{11}+b_1k_1)x_1+(a_{12}+b_1k_2)x_2+b_1k_1w_1+b_1k_2w_2 \\\\\n",
    " (a_{21}+b_2k_1)x_1+(a_{22}+b_2k_2)x_2+b_2k_1w_1+b_2k_2w_2 \\end{bmatrix}\n",
    "$$"
   ]
  },
  {
   "cell_type": "markdown",
   "metadata": {},
   "source": [
    "## Sensitivity with additive noise model"
   ]
  },
  {
   "cell_type": "markdown",
   "metadata": {},
   "source": [
    "Our method requires the perturbation to be reflected in the augmented matrix. One way to achieve this is to add a \"fake\" state in $x$ and modify $A$, $B$ and $K$ matrices accordingly:\n",
    "\n",
    "$$\n",
    "\\bar{x} = \\begin{bmatrix} x_1 \\\\ x_2 \\\\ 1 \\end{bmatrix} \\\\\n",
    "\\bar{A} = \\begin{bmatrix}\n",
    "    a_{11} & a_{12} & 0 \\\\\n",
    "    a_{21} & a_{22} & 0 \\\\\n",
    "    0 & 0 & 1 \n",
    "\\end{bmatrix} \\\\\n",
    "\\bar{B}\\bar{K} = \\begin{bmatrix}\n",
    "    b_1k_1 & b_1k_2 & 0 \\\\\n",
    "    b_2k_1 & b_2k_2 & 0 \\\\\n",
    "    0 &    0 &    0 \n",
    "\\end{bmatrix}\n",
    "$$\n",
    "\n",
    "Recall that $x[t+1] = (\\bar{A}+\\bar{B}\\bar{K})x[t] + BKw$, then\n",
    "$$\n",
    "w' = \\begin{bmatrix}\n",
    "    0 & 0 & b_1k_1w_1+b_1k_2w_2 \\\\\n",
    "    0 & 0 & b_2k_1w_1+b_2k_2w_2 \\\\\n",
    "    0 & 0 & 0\n",
    "\\end{bmatrix} \\\\\n",
    "w'_1 = \\begin{bmatrix}\n",
    "    0 & 0 & b_1k_1 \\\\\n",
    "    0 & 0 & b_2k_1 \\\\\n",
    "    0 & 0 & 0\n",
    "\\end{bmatrix} \\\\\n",
    "\\bar{A}+\\bar{B}\\bar{K}+w' =\n",
    "\\begin{bmatrix}\n",
    "    a_{11}+b_1k_1 & a_{11}+b_1k_2 & b_1k_1w_1+b_1k_2w_2 \\\\\n",
    "    a_{21}+b_2k_1 & a_{22}+b_2k_2 & b_2k_1w_1+b_2k_2w_2 \\\\\n",
    "    0 & 0 & 1\n",
    "\\end{bmatrix} \\\\\n",
    "x[t+1] = (\\bar{A}+\\bar{B}\\bar{K}+w')x[t] = \\begin{bmatrix}\n",
    "    (a_{11}+b_1k_1)x_1+(a_{12}+b_1k_2)x_2+b_1k_1w_1+b_1k_2w_2 \\\\\n",
    "    (a_{21}+b_2k_1)x_1+(a_{22}+b_2k_2)x_2+b_2k_1w_1+b_2k_2w_2 \\\\\n",
    "    1\n",
    "\\end{bmatrix}\n",
    "$$\n",
    "is the same formulation of before with the uncertainty modeled within $A_\\phi' = \\bar{A}+\\bar{B}\\bar{K}+w'$\n",
    "\n",
    "$$\n",
    "A_\\phi = \\bar{A}+\\bar{B}\\bar{K} \\\\\n",
    "Y_i = w'_i\n",
    "$$\n",
    "\n",
    "For example,\n",
    "$$\n",
    "\\begin{align*}\n",
    "A\\phi' &= A_\\phi + w_1 Y_1 \\\\\n",
    "&= \\bar{A}+\\bar{B}\\bar{K} + w_1 \\begin{bmatrix}\n",
    "    0 & 0 & b_1k_1 \\\\\n",
    "    0 & 0 & b_2k_1 \\\\\n",
    "    0 & 0 & 0\n",
    "\\end{bmatrix} \\\\\n",
    "&= \\begin{bmatrix}\n",
    "    a_{11}+b_1k_1 & a_{11}+b_1k_2 & b_1k_1w_1 \\\\\n",
    "    a_{21}+b_2k_1 & a_{22}+b_2k_2 & b_2k_1w_1 \\\\\n",
    "    0 & 0 & 1\n",
    "\\end{bmatrix}\n",
    "\\end{align*}\n",
    "$$\n",
    "\n",
    "x <- R^n\n",
    "w <- R^n, only 1 element in w is non-zero\n",
    "$$\n",
    "Y =\n",
    "\\begin{bmatrix}\n",
    "0 & 0 & 1 \\\\\n",
    "0 & 0 & 1 \\\\\n",
    "\\end{bmatrix}\n",
    "$$\n",
    "\n",
    "$$\n",
    "\\begin{bmatrix} a_{11}+b_1k_1 & a_{12}+b_1k_2+l\\\\ \n",
    "a_{21}+b_2k_1 & a_{22}+b_2k_2+l \\end{bmatrix}\n",
    "$$"
   ]
  },
  {
   "cell_type": "code",
   "execution_count": 17,
   "metadata": {},
   "outputs": [],
   "source": [
    "def addi_sensitivity(A, B, K=None):\n",
    "    # A_bar = np.pad(A, ((0, 1), (0, 1)))\n",
    "    # A_bar[-1, -1] = 1\n",
    "    # B_bar = np.pad(B, ((0, 1), (0, 0)))\n",
    "    # if K is not None:\n",
    "    #     K_bar = np.pad(K, ((0, 0), (0, 1)))\n",
    "    #     A_phi = A_bar + np.matmul(B_bar, K_bar)\n",
    "    #     Y = np.matmul(B_bar, K_bar)\n",
    "    # else:\n",
    "    #     A_phi = A_bar\n",
    "    #     Y = np.pad(np.eye(A.shape[0]), ((0, 1), (0, 1)))\n",
    "\n",
    "    if K is not None:\n",
    "        alpha = A + np.matmul(B, K)\n",
    "        beta  = np.matmul(B, K)\n",
    "    else:\n",
    "        alpha = A\n",
    "        beta  = np.eye(A.shape[0])\n",
    "\n",
    "    A_phi = np.pad(alpha, ((0, 1), (0, 1)))\n",
    "    A_phi[-1, -1] = 1\n",
    "    Y_all = np.pad(beta, ((0, 1),(0, 1)))\n",
    "\n",
    "    sensitivity = []\n",
    "    for i in range(Y_all.shape[1]):\n",
    "        Y_i = np.zeros(Y_all.shape)\n",
    "        Y_i[:, -1] = Y_all[:, i]\n",
    "        # Print out values for the second system\n",
    "        # if (i == 1):\n",
    "        #     print(A_phi, Y_all, Y_i, get_sensitivity(A_phi, Y_i), sep='\\n')\n",
    "        sensitivity.append(get_sensitivity(A_phi, Y_i))\n",
    "\n",
    "    return sensitivity[:-1]\n"
   ]
  },
  {
   "cell_type": "code",
   "execution_count": 18,
   "metadata": {},
   "outputs": [
    {
     "data": {
      "text/plain": [
       "{'RC': [1.5e-05, 5.9e-06],\n",
       " 'F1': [0.0069, 0.0094],\n",
       " 'DC': [1.5e-05, 0.00097],\n",
       " 'CS': [0.051, 0.022, 0.098, 0.021],\n",
       " 'EW': [0.00027, 3e-06],\n",
       " 'C1': [0.0],\n",
       " 'CC': [0.00063, 0.0078, 0.0079],\n",
       " 'D5': [0.084, 0.15, 0.037, 0.11, 0.044]}"
      ]
     },
     "execution_count": 18,
     "metadata": {},
     "output_type": "execute_result"
    }
   ],
   "source": [
    "res = {}\n",
    "for (name, bench) in sys_variables.items():\n",
    "    K = ctrl.dlqr(bench.sysd, np.eye(bench.nx), np.eye(bench.nu))[0]\n",
    "    res[name] = list(map(round2g, addi_sensitivity(bench.sysd.A, bench.sysd.B, K)))\n",
    "res"
   ]
  },
  {
   "cell_type": "code",
   "execution_count": 19,
   "metadata": {},
   "outputs": [
    {
     "data": {
      "text/plain": [
       "[0.35, 0.0, 0.23, 0.52, 0.32]"
      ]
     },
     "execution_count": 19,
     "metadata": {},
     "output_type": "execute_result"
    }
   ],
   "source": [
    "bench = sys_variables['D5']\n",
    "list(map(round2g, addi_sensitivity(bench.sysd.A, bench.sysd.B)))"
   ]
  },
  {
   "cell_type": "code",
   "execution_count": 20,
   "metadata": {},
   "outputs": [
    {
     "data": {
      "text/plain": [
       "0.0"
      ]
     },
     "execution_count": 20,
     "metadata": {},
     "output_type": "execute_result"
    }
   ],
   "source": [
    "# Why zero sensitivity for state 2?\n",
    "A_phi = np.array([[ 0.70928684, -0.0927456,   0.13492716, -0.01850984, -0.14914274,  0.        ],\n",
    " [-0.21832911,  0.17897517, -0.09644953, -0.39045726,  0.41558154,  0.        ],\n",
    " [ 0.68196065,  1.24570196,  0.99419551,  0.83227819, -0.65418901,  0.        ],\n",
    " [ 0.09193552,  0.39630738,  0.04493402,  1.0934956,  -0.34267877,  0.        ],\n",
    " [-0.42660553, -0.95573144,  0.13861052, -0.44067533,  0.98383295,  0.        ],\n",
    " [ 0.,          0.,          0.,          0.,          0.,          1.        ]])\n",
    "\n",
    "Y = np.array([[0., 0., 0., 0., 0., 0.],\n",
    " [0., 0., 0., 0., 0., 1.],\n",
    " [0., 0., 0., 0., 0., 0.],\n",
    " [0., 0., 0., 0., 0., 0.],\n",
    " [0., 0., 0., 0., 0., 0.],\n",
    " [0., 0., 0., 0., 0., 0.]])\n",
    "\n",
    "get_sensitivity(A_phi, Y)"
   ]
  },
  {
   "cell_type": "markdown",
   "metadata": {},
   "source": [
    "Final results:\n",
    " - Multiplicative: `[0.45, 0.29, 0.48, 0.68, 0.27]`\n",
    " - Additive: `[0.35, 0.0, 0.23, 0.52, 0.32]`"
   ]
  }
 ],
 "metadata": {
  "kernelspec": {
   "display_name": "py39",
   "language": "python",
   "name": "python3"
  },
  "language_info": {
   "codemirror_mode": {
    "name": "ipython",
    "version": 3
   },
   "file_extension": ".py",
   "mimetype": "text/x-python",
   "name": "python",
   "nbconvert_exporter": "python",
   "pygments_lexer": "ipython3",
   "version": "3.11.2"
  },
  "orig_nbformat": 4
 },
 "nbformat": 4,
 "nbformat_minor": 2
}
