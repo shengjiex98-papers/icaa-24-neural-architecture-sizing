{
 "cells": [
  {
   "cell_type": "markdown",
   "metadata": {},
   "source": [
    "## Background\n",
    "We assume the system is $x \\in R^n$ and $x[t+1] = Ax[t] + Bu[t]$ where $u[t]=K\\hat{x}[t]$ is computed from the neural-network percepted states $\\hat{x}[t] \\approx x[t]$.\n"
   ]
  },
  {
   "cell_type": "markdown",
   "metadata": {},
   "source": [
    "## Multiplicative noise model\n"
   ]
  },
  {
   "cell_type": "markdown",
   "metadata": {},
   "source": [
    "\n",
    "We model noise by $\\hat{x}[t] = Ex[t]$ where $E$ is a diagonal matrix that is close to the identity matrix. Specifically, given a small $\\epsilon_i$ such that $\\hat{x}_i[t] = (1+\\epsilon_i)x_i[t]$,\n",
    "<!-- given $\\lambda_i \\approx 1$ such that $\\hat{x}_i[t] \\in (\\frac{x_i[t]}{\\lambda_i}, x_i[t]\\lambda_i)$ -->\n",
    "$$\n",
    "E = \\begin{bmatrix}\n",
    "    1+\\epsilon_1 & & \\huge0 \\\\\n",
    "    & \\ddots &  \\\\\n",
    "    \\huge0 & & 1+\\epsilon_n\n",
    "\\end{bmatrix},\n",
    "$$\n",
    "and the system model becomes\n",
    "$$\n",
    "x[t+1] = Ax[t] + BK(Ex[t]) \\\\\n",
    "       = (A+BKE)x[t].\n",
    "$$\n",
    "\n",
    "We use a special notation $E_i$ to denote when only **one** state, $x_i$, is affected by uncertainty and all other states are assumed to be perfectly sensed.\n",
    "$$\n",
    "E_i = \\begin{bmatrix}\n",
    "    I_{i-1} & & \\huge0 \\\\\n",
    "    & 1+\\epsilon_i &  \\\\\n",
    "    \\huge0 & & I_{n-i}\n",
    "\\end{bmatrix}.\n",
    "$$\n",
    "\n",
    "For example, when $A=\n",
    "\\begin{bmatrix}\n",
    "a_{11} & a_{11} \\\\\n",
    "a_{21} & a_{22}\n",
    "\\end{bmatrix}\n",
    "$, $B=\\begin{bmatrix}\n",
    "    b_1 \\\\ b_2\n",
    "\\end{bmatrix}$, and $K = \\begin{bmatrix}\n",
    "    k_1 &  k_2\n",
    "\\end{bmatrix}$,\n",
    "$$\n",
    "A+BKE_1 =\n",
    "\\begin{bmatrix}\n",
    "a_{11}+b_1k_1 (1+\\epsilon_1) & a_{11}+b_1k_2 \\\\\n",
    "a_{21}+b_2k_1 (1+\\epsilon_1) & a_{22}+b_2k_2\n",
    "\\end{bmatrix},\n",
    "$$\n",
    "and\n",
    "$$\n",
    "A+BKE_2 =\n",
    "\\begin{bmatrix}\n",
    "a_{11}+b_1k_1 & a_{11}+b_1k_2 (1+\\epsilon_2) \\\\\n",
    "a_{21}+b_2k_1 & a_{22}+b_2k_2 (1+\\epsilon_2)\n",
    "\\end{bmatrix}.\n",
    "$$"
   ]
  },
  {
   "cell_type": "markdown",
   "metadata": {},
   "source": [
    "## Computing sensitivity with multiplicative noise model\n"
   ]
  },
  {
   "cell_type": "markdown",
   "metadata": {},
   "source": [
    "The key of the technique is to model the system as \n",
    "$$x[t+1] = A_\\phi x[t]$$\n",
    "and model the uncertainty in a way such that the system with uncertainty is represented by \n",
    "$$x[t+1] = A_\\phi' x[t]$$\n",
    "where $A_\\phi' = A_\\phi + \\epsilon Y + O(\\epsilon^2)$. \n",
    "Then using $A_\\phi$ and $Y$ as inputs, we use the prior technique to compute the sensitivity of maximum singular value of $A_\\phi'$ relative to $\\epsilon$. Using the previous example, we see that \n",
    "$$\n",
    "\\begin{align*}\n",
    "A_\\phi \n",
    "&= A+BK \\\\\n",
    "&= \\begin{bmatrix}\n",
    "    a_{11}+b_1k_1 & a_{11}+b_1k_2 \\\\\n",
    "    a_{21}+b_2k_1 & a_{22}+b_2k_2\n",
    "\\end{bmatrix},\n",
    "\\end{align*}\n",
    "$$\n",
    "And for a perturbation in $x_1$, the resulting $A_\\phi'$ becomes\n",
    "$$\n",
    "\\begin{align*}\n",
    "A_\\phi' \n",
    "&= A+BKE_1 \\\\\n",
    "&=\\begin{bmatrix}\n",
    "    a_{11}+b_1k_1 (1+\\epsilon_1) & a_{11}+b_1k_2 \\\\\n",
    "    a_{21}+b_2k_1 (1+\\epsilon_1) & a_{22}+b_2k_2\n",
    "\\end{bmatrix} \\\\\n",
    "&= \\begin{bmatrix}\n",
    "    a_{11}+b_1k_1 & a_{11}+b_1k_2 \\\\\n",
    "    a_{21}+b_2k_1 & a_{22}+b_2k_2\n",
    "\\end{bmatrix} +\n",
    "\\epsilon_1 \\begin{bmatrix}\n",
    "    b_1k_1 & 0 \\\\\n",
    "    b_2k_1 & 0\n",
    "\\end{bmatrix} \\\\\n",
    "&= A_\\phi + \\epsilon_1 Y_1\n",
    "\\end{align*}\n",
    "$$\n",
    "where $Y_1 = \\begin{bmatrix}\n",
    "    b_1k_1 & 0 \\\\\n",
    "    b_2k_1 & 0\n",
    "\\end{bmatrix}$. Similarly, $Y_2 =\n",
    "\\begin{bmatrix}\n",
    "    0 & b_1k_2 \\\\\n",
    "    0 & b_2k_2\n",
    "\\end{bmatrix}$.\n",
    "\n",
    "More generally, for arbitrary $A$, $B$ and $K$, $A_\\phi = A+BK$ and\n",
    "$Y_i = \\begin{bmatrix}\n",
    "    & b_1k_i & \\\\\n",
    "    \\huge 0 & \\vdots & \\huge 0 \\\\\n",
    "    & b_nk_i & \\\\\n",
    "\\end{bmatrix}.$\n",
    "\n",
    "Similarly, for open-loop systems, $A_\\phi = A$ and\n",
    "$Y_i = \\begin{bmatrix}\n",
    "    & a_{1i} & \\\\\n",
    "    \\huge 0 & \\vdots & \\huge 0 \\\\\n",
    "    & a_{ni} & \\\\\n",
    "\\end{bmatrix}.$"
   ]
  },
  {
   "cell_type": "code",
   "execution_count": 1,
   "metadata": {},
   "outputs": [],
   "source": [
    "import numpy as np\n",
    "\n",
    "def mult_sensitivity(A, B, K, open_loop=False):\n",
    "    if not open_loop:\n",
    "        A_phi = A + np.matmul(B, K)\n",
    "        Y = np.matmul(B, K)\n",
    "    else:\n",
    "        A_phi = A\n",
    "        Y = A\n",
    "\n",
    "    return A_phi, Y"
   ]
  },
  {
   "cell_type": "code",
   "execution_count": 3,
   "metadata": {},
   "outputs": [
    {
     "data": {
      "text/plain": [
       "{'RC': [0.03, 0.0029],\n",
       " 'F1': [0.13, 0.35],\n",
       " 'DC': [1.3e-05, 0.016],\n",
       " 'CS': [0.54, 0.075, 0.52, 0.066],\n",
       " 'EW': [320.0, 0.039],\n",
       " 'C1': [2e-05],\n",
       " 'CC': [0.0025, 0.008, 0.049],\n",
       " 'D5': [0.0, 0.0, 0.0, 0.0, 0.0]}"
      ]
     },
     "execution_count": 3,
     "metadata": {},
     "output_type": "execute_result"
    }
   ],
   "source": [
    "import control as ctrl\n",
    "from Benchmarks import sys_variables\n",
    "from OrderUncertainties import *\n",
    "\n",
    "def get_sensitivity(A_phi, Y):\n",
    "    mat = OrdUnc(A_phi)\n",
    "    if mat.determineCase() == 1:\n",
    "        return mat.distinctPos(Y)\n",
    "    else:\n",
    "        return mat.multSig(Y)\n",
    "\n",
    "def all_sensitivity(A_phi, Y):\n",
    "    sensitivity = []\n",
    "    for i in range(Y.shape[1]):\n",
    "        Y_i = np.zeros(Y.shape)\n",
    "        Y_i[:, i] = Y[:, i]\n",
    "        sensitivity.append(get_sensitivity(A_phi, Y_i))\n",
    "\n",
    "    # With padded state equations, we emit the last entry in sensitivity.\n",
    "    return sensitivity\n",
    "\n",
    "round2g = lambda x: float(f\"{x:.2g}\")\n",
    "\n",
    "res = {}\n",
    "for (name, bench) in sys_variables.items():\n",
    "    K = ctrl.lqr(bench.sysd, np.eye(bench.nx), np.eye(bench.nu))[0]\n",
    "    A_phi, Y = mult_sensitivity(bench.sysd.A, bench.sysd.B, K)\n",
    "    res[name] = list(map(round2g, all_sensitivity(A_phi, Y)))\n",
    "res"
   ]
  },
  {
   "cell_type": "code",
   "execution_count": 4,
   "metadata": {},
   "outputs": [
    {
     "data": {
      "text/plain": [
       "[0.45, 0.29, 0.48, 0.68, 0.27]"
      ]
     },
     "execution_count": 4,
     "metadata": {},
     "output_type": "execute_result"
    }
   ],
   "source": [
    "bench = sys_variables['D5']\n",
    "A_phi, Y = mult_sensitivity(bench.sysd.A, bench.sysd.B, [], open_loop=True)\n",
    "list(map(round2g, all_sensitivity(A_phi, Y)))"
   ]
  }
 ],
 "metadata": {
  "kernelspec": {
   "display_name": "py39",
   "language": "python",
   "name": "python3"
  },
  "language_info": {
   "codemirror_mode": {
    "name": "ipython",
    "version": 3
   },
   "file_extension": ".py",
   "mimetype": "text/x-python",
   "name": "python",
   "nbconvert_exporter": "python",
   "pygments_lexer": "ipython3",
   "version": "3.11.4"
  },
  "orig_nbformat": 4
 },
 "nbformat": 4,
 "nbformat_minor": 2
}
