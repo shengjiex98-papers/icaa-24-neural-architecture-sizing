{
 "cells": [
  {
   "cell_type": "code",
   "execution_count": 2,
   "metadata": {},
   "outputs": [],
   "source": [
    "using ReachabilityAnalysis\n",
    "using Plots\n",
    "using ControlSystemsBase\n",
    "using OffsetArrays\n",
    "using LinearAlgebra\n",
    "using Polyhedra\n",
    "using JLD2"
   ]
  },
  {
   "cell_type": "code",
   "execution_count": 3,
   "metadata": {},
   "outputs": [
    {
     "data": {
      "text/plain": [
       "reach"
      ]
     },
     "metadata": {},
     "output_type": "display_data"
    }
   ],
   "source": [
    "\"\"\"\n",
    "\treach(A, x0, W, H; max_order=Inf, reduced_order=2, remove_redundant=true)\n",
    "\n",
    "Compute reachable sets for the dynamics ``x[k+1] = A x[k] + w``, where ``w`` is a noise term bounded by `W`.  The initial state is `x0`, and the time horizon is `H`.\n",
    "\n",
    "If `max_order` is given, we reduce order of the reachable set to `reduced_order` when it exceeds this limit.  If `remove_redundant` is true, redundant generators are removed at each step.\n",
    "\"\"\"\n",
    "function reach(A::AbstractMatrix, x0::AbstractZonotope, W::AbstractZonotope, H::Integer; max_order::Real=Inf, reduced_order::Real=2, remove_redundant::Bool=true)\n",
    "\t# Preallocate x vector\n",
    "\tx = OffsetArray(fill(x0, H+1), OffsetArrays.Origin(0))\n",
    "\n",
    "\tfor k = 1:H\n",
    "\t\tx[k] = minkowski_sum(linear_map(A, x[k-1]), W)\n",
    "\t\tif remove_redundant\n",
    "\t\t\tx[k] = remove_redundant_generators(x[k])\n",
    "\t\tend\n",
    "\t\tif order(x[k]) > max_order\n",
    "\t\t\tx[k] = reduce_order(x[k], reduced_order)\n",
    "\t\tend\n",
    "\tend\n",
    "\t\n",
    "\tF = Flowpipe([ReachSet(x_k, k) for (k, x_k) in enumerate(x)])\n",
    "end"
   ]
  },
  {
   "cell_type": "code",
   "execution_count": 6,
   "metadata": {},
   "outputs": [
    {
     "data": {
      "text/plain": [
       "8×3 Matrix{Float64}:\n",
       " 0.297017  0.0718114   0.39\n",
       " 0.264223  0.059322    0.7\n",
       " 0.248439  0.0537408   1.0\n",
       " 0.22549   0.0449321   1.8\n",
       " 0.206273  0.0373444   4.2\n",
       " 0.196172  0.0341262   9.9\n",
       " 0.190476  0.0330579  19.0\n",
       " 0.18624   0.0309278  37.0"
      ]
     },
     "metadata": {},
     "output_type": "display_data"
    }
   ],
   "source": [
    "# Accuracy (top-1/top-5) in percentage, parameter in millions, FLOP in billions\n",
    "efficient_net_surfaces = (\n",
    "    B0 = (acc1 = 77.1, acc5 = 93.3, para = 5.3, flop = 0.39),\n",
    "    B1 = (acc1 = 79.1, acc5 = 94.4, para = 7.8, flop = 0.70),\n",
    "    B2 = (acc1 = 80.1, acc5 = 94.9, para = 9.2, flop = 1.0),\n",
    "    B3 = (acc1 = 81.6, acc5 = 95.7, para = 12, flop = 1.8),\n",
    "    B4 = (acc1 = 82.9, acc5 = 96.4, para = 19, flop = 4.2),\n",
    "    B5 = (acc1 = 83.6, acc5 = 96.7, para = 30, flop = 9.9),\n",
    "    B6 = (acc1 = 84.0, acc5 = 96.8, para = 43, flop = 19),\n",
    "    B7 = (acc1 = 84.3, acc5 = 97.0, para = 66, flop = 37),\n",
    ")\n",
    "\n",
    "efficient_net_map_full = vcat(([100/b.acc1 - 1;; 100/b.acc5 - 1;; b.flop] for b in efficient_net_surfaces)...)"
   ]
  },
  {
   "cell_type": "markdown",
   "metadata": {},
   "source": [
    "## Exhaustive Search"
   ]
  },
  {
   "cell_type": "code",
   "execution_count": null,
   "metadata": {},
   "outputs": [],
   "source": [
    "points(map, Φ) = let\n",
    "\tpoints = [fill(0, size(Φ, 1)); Inf; Inf]\n",
    "\tfor indices in Iterators.product([axes(efficient_net_map, 1) for _ in axes(Φ, 1)]...)\n",
    "\t\tW = Zonotope(zeros(axes(Φ, 1)), diagm(efficient_net_map[collect(indices), 2]))\n",
    "\t\tr = reach(Φ, x0, W, 100)\n",
    "\t\tmd = maximum([diameter(x.X) for x in r])\n",
    "\t\tpoints = hcat(points, [indices; md; sum(efficient_net_map[collect(indices), 3])])\n",
    "\tend\n",
    "\tpoints\n",
    "end"
   ]
  }
 ],
 "metadata": {
  "kernelspec": {
   "display_name": "Julia 1.9.3",
   "language": "julia",
   "name": "julia-1.9"
  },
  "language_info": {
   "file_extension": ".jl",
   "mimetype": "application/julia",
   "name": "julia",
   "version": "1.9.3"
  }
 },
 "nbformat": 4,
 "nbformat_minor": 2
}
