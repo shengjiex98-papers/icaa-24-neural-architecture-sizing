{
 "cells": [
  {
   "cell_type": "code",
   "execution_count": 2,
   "metadata": {},
   "outputs": [],
   "source": [
    "using ReachabilityAnalysis\n",
    "using Plots\n",
    "using ControlSystemsBase\n",
    "using OffsetArrays\n",
    "using LinearAlgebra\n",
    "using Polyhedra\n",
    "using JLD2"
   ]
  },
  {
   "cell_type": "markdown",
   "metadata": {},
   "source": [
    "## System Model"
   ]
  },
  {
   "cell_type": "code",
   "execution_count": 2,
   "metadata": {},
   "outputs": [
    {
     "data": {
      "text/plain": [
       "Zonotope{Float64, Vector{Float64}, Matrix{Float64}}([10.0, 10.0, 10.0, 10.0, 10.0], [1.0 0.0 … 0.0 0.0; 0.0 1.0 … 0.0 0.0; … ; 0.0 0.0 … 1.0 0.0; 0.0 0.0 … 0.0 1.0])"
      ]
     },
     "metadata": {},
     "output_type": "display_data"
    }
   ],
   "source": [
    "A = let\n",
    "    D = [-1.0 -4.0 0.0 0.0 0.0;\n",
    "         4.0 -1.0 0.0 0.0 0.0;\n",
    "         0.0 0.0 -3.0 1.0 0.0;\n",
    "         0.0 0.0 -1.0 -3.0 0.0;\n",
    "         0.0 0.0 0.0 0.0 -2.0]\n",
    "    P = [0.6 -0.1 0.1 0.7 -0.2;\n",
    "         -0.5 0.7 -0.1 -0.8 0.0;\n",
    "         0.9 -0.5 0.3 -0.6 0.1;\n",
    "         0.5 -0.7 0.5 0.6 0.3;\n",
    "         0.8 0.7 0.6 -0.3 0.2]\n",
    "    P * D * inv(P)\n",
    "end\n",
    "ctrl_delay = 0.1\n",
    "Φ = ℯ^(A * ctrl_delay)\n",
    "x0 = Zonotope(fill(10., 5), collect(1.0 * I(5)))"
   ]
  },
  {
   "cell_type": "code",
   "execution_count": 3,
   "metadata": {},
   "outputs": [
    {
     "data": {
      "text/plain": [
       "reach"
      ]
     },
     "metadata": {},
     "output_type": "display_data"
    }
   ],
   "source": [
    "\"\"\"\n",
    "\treach(A, x0, W, H; max_order=Inf, reduced_order=2, remove_redundant=true)\n",
    "\n",
    "Compute reachable sets for the dynamics ``x[k+1] = A x[k] + w``, where ``w`` is a noise term bounded by `W`.  The initial state is `x0`, and the time horizon is `H`.\n",
    "\n",
    "If `max_order` is given, we reduce order of the reachable set to `reduced_order` when it exceeds this limit.  If `remove_redundant` is true, redundant generators are removed at each step.\n",
    "\"\"\"\n",
    "function reach(A::AbstractMatrix, x0::AbstractZonotope, W::AbstractZonotope, H::Integer; max_order::Real=Inf, reduced_order::Real=2, remove_redundant::Bool=true)\n",
    "\t# Preallocate x vector\n",
    "\tx = OffsetArray(fill(x0, H+1), OffsetArrays.Origin(0))\n",
    "\n",
    "\tfor k = 1:H\n",
    "\t\tx[k] = minkowski_sum(linear_map(A, x[k-1]), W)\n",
    "\t\tif remove_redundant\n",
    "\t\t\tx[k] = remove_redundant_generators(x[k])\n",
    "\t\tend\n",
    "\t\tif order(x[k]) > max_order\n",
    "\t\t\tx[k] = reduce_order(x[k], reduced_order)\n",
    "\t\tend\n",
    "\tend\n",
    "\t\n",
    "\tF = Flowpipe([ReachSet(x_k, k) for (k, x_k) in enumerate(x)])\n",
    "end"
   ]
  },
  {
   "cell_type": "code",
   "execution_count": 6,
   "metadata": {},
   "outputs": [
    {
     "data": {
      "text/plain": [
       "8×3 Matrix{Float64}:\n",
       " 0.297017  0.0718114   0.39\n",
       " 0.264223  0.059322    0.7\n",
       " 0.248439  0.0537408   1.0\n",
       " 0.22549   0.0449321   1.8\n",
       " 0.206273  0.0373444   4.2\n",
       " 0.196172  0.0341262   9.9\n",
       " 0.190476  0.0330579  19.0\n",
       " 0.18624   0.0309278  37.0"
      ]
     },
     "metadata": {},
     "output_type": "display_data"
    }
   ],
   "source": [
    "# Accuracy (top-1/top-5) in percentage, parameter in millions, FLOP in billions\n",
    "efficient_net_surfaces = (\n",
    "    B0 = (acc1 = 77.1, acc5 = 93.3, para = 5.3, flop = 0.39),\n",
    "    B1 = (acc1 = 79.1, acc5 = 94.4, para = 7.8, flop = 0.70),\n",
    "    B2 = (acc1 = 80.1, acc5 = 94.9, para = 9.2, flop = 1.0),\n",
    "    B3 = (acc1 = 81.6, acc5 = 95.7, para = 12, flop = 1.8),\n",
    "    B4 = (acc1 = 82.9, acc5 = 96.4, para = 19, flop = 4.2),\n",
    "    B5 = (acc1 = 83.6, acc5 = 96.7, para = 30, flop = 9.9),\n",
    "    B6 = (acc1 = 84.0, acc5 = 96.8, para = 43, flop = 19),\n",
    "    B7 = (acc1 = 84.3, acc5 = 97.0, para = 66, flop = 37),\n",
    ")\n",
    "\n",
    "efficient_net_map_full = vcat(([100/b.acc1 - 1;; 100/b.acc5 - 1;; b.flop] for b in efficient_net_surfaces)...)"
   ]
  },
  {
   "cell_type": "markdown",
   "metadata": {},
   "source": [
    "## Exhaustive Search"
   ]
  },
  {
   "cell_type": "code",
   "execution_count": 11,
   "metadata": {},
   "outputs": [
    {
     "data": {
      "text/plain": [
       "exhaustive_search (generic function with 2 methods)"
      ]
     },
     "metadata": {},
     "output_type": "display_data"
    }
   ],
   "source": [
    "exhaustive_search(tradeoffmap, Φ, x0, all=true) = let\n",
    "\tupto = size(tradeoffmap, 1)\n",
    "\tpoints = [(0,0,0,0,0); Inf; Inf]\n",
    "\tfor idx in Iterators.product(fill(axes(tradeoffmap, 1), size(Φ, 1))...)\n",
    "\t\tall || reduce(|, map(x -> x == upto, idx)) || continue\n",
    "\t\tW = Zonotope(zeros(axes(Φ, 1)), diagm(tradeoffmap[collect(idx), 2]))\n",
    "\t\tr = reach(Φ, x0, W, 100)\n",
    "\t\tmd = maximum([diameter(x.X) for x in r])\n",
    "\t\tpoints = hcat(points, [idx; md; sum(tradeoffmap[collect(idx), 3])])\n",
    "\tend\n",
    "\tpoints[:,2:end]\n",
    "end"
   ]
  },
  {
   "cell_type": "code",
   "execution_count": 12,
   "metadata": {},
   "outputs": [
    {
     "name": "stderr",
     "output_type": "stream",
     "text": [
      "┌ Info: 2\n",
      "└ @ Main /Users/jerry/Projects/date24-asd/src/reachability.ipynb:1\n"
     ]
    },
    {
     "name": "stdout",
     "output_type": "stream",
     "text": [
      "  3.919731 seconds (140.40 M allocations: 12.612 GiB, 15.67% gc time, 5.03% compilation time)\n"
     ]
    },
    {
     "data": {
      "text/plain": [
       "3×32 Matrix{Any}:\n",
       "   (1, 1, 1, 1, 1)    (2, 1, 1, 1, 1)  …    (2, 2, 2, 2, 2)\n",
       " 22.6995            22.5662               21.9199\n",
       "  1.95               2.26                  3.5"
      ]
     },
     "metadata": {},
     "output_type": "display_data"
    }
   ],
   "source": [
    "@info 2\n",
    "@time exhaustive_search(efficient_net_map_full[1:2,:], Φ, x0)"
   ]
  },
  {
   "cell_type": "code",
   "execution_count": 13,
   "metadata": {},
   "outputs": [
    {
     "name": "stderr",
     "output_type": "stream",
     "text": [
      "┌ Info: 5\n",
      "└ @ Main /Users/jerry/Projects/date24-asd/src/reachability.ipynb:1\n"
     ]
    },
    {
     "name": "stdout",
     "output_type": "stream",
     "text": [
      "410.465575 seconds (13.66 G allocations: 1.201 TiB, 22.66% gc time, 0.12% compilation time)\n"
     ]
    },
    {
     "name": "stderr",
     "output_type": "stream",
     "text": [
      "┌ Info: 6\n",
      "└ @ Main /Users/jerry/Projects/date24-asd/src/reachability.ipynb:4\n"
     ]
    },
    {
     "name": "stdout",
     "output_type": "stream",
     "text": [
      "681.572011 seconds (20.33 G allocations: 1.787 TiB, 30.30% gc time, 0.03% compilation time)\n"
     ]
    },
    {
     "name": "stderr",
     "output_type": "stream",
     "text": [
      "┌ Info: 7\n",
      "└ @ Main /Users/jerry/Projects/date24-asd/src/reachability.ipynb:4\n"
     ]
    },
    {
     "name": "stdout",
     "output_type": "stream",
     "text": [
      "1336.319225 seconds (39.48 G allocations: 3.470 TiB, 31.20% gc time)\n"
     ]
    },
    {
     "name": "stderr",
     "output_type": "stream",
     "text": [
      "┌ Info: 8\n",
      "└ @ Main /Users/jerry/Projects/date24-asd/src/reachability.ipynb:4\n"
     ]
    },
    {
     "name": "stdout",
     "output_type": "stream",
     "text": [
      "2256.696941 seconds (69.77 G allocations: 6.135 TiB, 28.93% gc time)\n"
     ]
    }
   ],
   "source": [
    "@info 5\n",
    "@time results = [exhaustive_search(efficient_net_map_full[1:5,:], Φ, x0)]\n",
    "for i in 6:8\n",
    "    @info i\n",
    "    @time currentpoints = exhaustive_search(efficient_net_map_full[1:i,:], Φ, x0, false)\n",
    "    push!(results, currentpoints)\n",
    "end\n",
    "jldsave(\"../data/allsave.jld2\"; results)"
   ]
  },
  {
   "cell_type": "code",
   "execution_count": 19,
   "metadata": {},
   "outputs": [
    {
     "data": {
      "text/plain": [
       "(3, 15961)"
      ]
     },
     "metadata": {},
     "output_type": "display_data"
    }
   ],
   "source": [
    "size(results[4])"
   ]
  },
  {
   "cell_type": "code",
   "execution_count": 12,
   "metadata": {},
   "outputs": [
    {
     "data": {
      "text/plain": [
       "4×32768 Matrix{Any}:\n",
       "      (1, 1, 1, 1, 1)       (2, 1, 1, 1, 1)  …      (8, 8, 8, 8, 8)\n",
       "    22.6995               22.5662                 20.5743\n",
       "     1.95                  2.26                  185.0\n",
       " false                 false                    true"
      ]
     },
     "metadata": {},
     "output_type": "display_data"
    }
   ],
   "source": [
    "datt = load(\"../data/exhaustive_search.jld2\")[\"points\"][:,2:end]"
   ]
  },
  {
   "cell_type": "code",
   "execution_count": 3,
   "metadata": {},
   "outputs": [
    {
     "data": {
      "text/plain": [
       "4-element Vector{Matrix{Any}}:\n",
       " [(1, 1, 1, 1, 1) (2, 1, 1, 1, 1) … (4, 5, 5, 5, 5) (5, 5, 5, 5, 5); 22.69954610804413 22.566218417560833 … 20.90536961128859 20.85146728999061; 1.9500000000000002 2.2600000000000002 … 18.599999999999998 21.0]\n",
       " [(6, 1, 1, 1, 1) (6, 2, 1, 1, 1) … (5, 6, 6, 6, 6) (6, 6, 6, 6, 6); 22.297244185156814 22.040120397888074 … 20.73533341045882 20.712471309048453; 11.460000000000003 11.770000000000001 … 43.8 49.5]\n",
       " [(7, 1, 1, 1, 1) (7, 2, 1, 1, 1) … (6, 7, 7, 7, 7) (7, 7, 7, 7, 7); 22.285839600383724 22.028715813114985 … 20.673919979892702 20.66633076992045; 20.560000000000002 20.87 … 85.9 95.0]\n",
       " [(8, 1, 1, 1, 1) (8, 2, 1, 1, 1) … (7, 8, 8, 8, 8) (8, 8, 8, 8, 8); 22.263100974660716 22.005977187391977 … 20.589466573438585 20.574335097060782; 38.56 38.870000000000005 … 167.0 185.0]"
      ]
     },
     "metadata": {},
     "output_type": "display_data"
    }
   ],
   "source": [
    "allsave = load(\"../data/allsave.jld2\")[\"results\"]"
   ]
  },
  {
   "cell_type": "code",
   "execution_count": 29,
   "metadata": {},
   "outputs": [
    {
     "data": {
      "text/plain": [
       "4-element Vector{Int64}:\n",
       "  3125\n",
       "  7776\n",
       " 16807\n",
       " 32768"
      ]
     },
     "metadata": {},
     "output_type": "display_data"
    }
   ],
   "source": [
    "# sort(hcat(allsave...), dims=2)[:,773]\n",
    "[sum(size.(allsave, 2)[1:x]) for x in 1:4]"
   ]
  },
  {
   "cell_type": "code",
   "execution_count": 20,
   "metadata": {},
   "outputs": [
    {
     "data": {
      "text/plain": [
       "3-element Vector{Any}:\n",
       "   (1, 2, 5, 1, 5)\n",
       " 20.72113019142722\n",
       "  5.6899999999999995"
      ]
     },
     "metadata": {},
     "output_type": "display_data"
    }
   ],
   "source": [
    "sort(datt[1:3,:], dims=2)[:,773]"
   ]
  }
 ],
 "metadata": {
  "kernelspec": {
   "display_name": "Julia 1.9.3",
   "language": "julia",
   "name": "julia-1.9"
  },
  "language_info": {
   "file_extension": ".jl",
   "mimetype": "application/julia",
   "name": "julia",
   "version": "1.9.3"
  }
 },
 "nbformat": 4,
 "nbformat_minor": 2
}
